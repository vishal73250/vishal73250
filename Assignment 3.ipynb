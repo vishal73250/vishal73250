{
 "cells": [
  {
   "cell_type": "code",
   "execution_count": 2,
   "id": "b004e40f",
   "metadata": {},
   "outputs": [],
   "source": [
    "# Q no. 1 :- Write a python function to find themax of three number "
   ]
  },
  {
   "cell_type": "code",
   "execution_count": 1,
   "id": "58bb1390",
   "metadata": {},
   "outputs": [
    {
     "name": "stdout",
     "output_type": "stream",
     "text": [
      "a= 5\n",
      "b= 8\n",
      "c=3\n",
      "8\n"
     ]
    }
   ],
   "source": [
    "def maximum(a, b, c):\n",
    "  \n",
    "    if (a >= b) and (a >= c):\n",
    "        largest = a\n",
    "  \n",
    "    elif (b >= a) and (b >= c):\n",
    "        largest = b\n",
    "    else:\n",
    "        largest = c\n",
    "          \n",
    "    return largest\n",
    "  \n",
    "\n",
    "a = int(input(\"a= \"))\n",
    "b = int(input(\"b= \"))\n",
    "c = int(input(\"c=\"))\n",
    "print(maximum(a, b, c))"
   ]
  },
  {
   "cell_type": "markdown",
   "id": "90bc6189",
   "metadata": {},
   "source": [
    "Q no 2 :- Write a Python function to multiply all the numbers in a list"
   ]
  },
  {
   "cell_type": "code",
   "execution_count": 4,
   "id": "2287fcab",
   "metadata": {},
   "outputs": [
    {
     "name": "stdout",
     "output_type": "stream",
     "text": [
      "[1, 2, 3, 4, 5, 6, 7, 8, 9]\n",
      "multiplication of all elements :  362880\n"
     ]
    }
   ],
   "source": [
    "my_list = []\n",
    "for i in range(1,10):\n",
    "    my_list.append(i)\n",
    "print(my_list)\n",
    "\n",
    "result = 1\n",
    "\n",
    "for item in my_list:\n",
    "    result = result * item\n",
    "\n",
    "print(\"multiplication of all elements : \",result)"
   ]
  },
  {
   "cell_type": "markdown",
   "id": "002f0fe3",
   "metadata": {},
   "source": [
    "Q no. 3:- . Write a Python function that accepts a string and calculate the number of upper case letters and lower case\n",
    "letters"
   ]
  },
  {
   "cell_type": "code",
   "execution_count": 8,
   "id": "f4d02851",
   "metadata": {},
   "outputs": [],
   "source": [
    "def up_low(s):\n",
    "    u, l = [], []\n",
    "    for a in s:\n",
    "        if a.isupper():\n",
    "            u.append(a)\n",
    "        else:\n",
    "            l.append(a)\n",
    "    print(len(u), len(l))"
   ]
  },
  {
   "cell_type": "code",
   "execution_count": 10,
   "id": "a71899a5",
   "metadata": {},
   "outputs": [
    {
     "name": "stdout",
     "output_type": "stream",
     "text": [
      "Hello I am Vishal Raj\n",
      "4 17\n"
     ]
    }
   ],
   "source": [
    "mystring = input()\n",
    "up_low(mystring)"
   ]
  },
  {
   "cell_type": "markdown",
   "id": "22cfb919",
   "metadata": {},
   "source": [
    "Q no. 4:- Write a Python function that checks whether a passed string is palindrome or not"
   ]
  },
  {
   "cell_type": "code",
   "execution_count": 11,
   "id": "68ad6091",
   "metadata": {},
   "outputs": [
    {
     "name": "stdout",
     "output_type": "stream",
     "text": [
      "Please enter your own String : aabbaa\n",
      "This is a Palindrome String\n"
     ]
    }
   ],
   "source": [
    "string = input(\"Please enter your own String : \")\n",
    "\n",
    "if(string == string[:: - 1]):\n",
    "    print(\"This is a Palindrome String\")\n",
    "else:\n",
    "    print(\"This is Not a Palindrome String\")"
   ]
  },
  {
   "cell_type": "markdown",
   "id": "a0c3cfe4",
   "metadata": {},
   "source": [
    "Q no. 5:- Write a Python program to print the even numbers from a given list."
   ]
  },
  {
   "cell_type": "code",
   "execution_count": 28,
   "id": "bf3075b6",
   "metadata": {},
   "outputs": [
    {
     "name": "stdout",
     "output_type": "stream",
     "text": [
      "2 4 6 8 "
     ]
    }
   ],
   "source": [
    "list = [1, 2, 3, 4, 5, 6, 7, 8, ] \n",
    "for num in list: \n",
    "    if num % 2 == 0: \n",
    "         print(num, end = \" \")"
   ]
  },
  {
   "cell_type": "code",
   "execution_count": 26,
   "id": "82bc4aa9",
   "metadata": {},
   "outputs": [
    {
     "name": "stdout",
     "output_type": "stream",
     "text": [
      "list= 1,2,3\n",
      "1,2,3\n"
     ]
    }
   ],
   "source": []
  },
  {
   "cell_type": "code",
   "execution_count": null,
   "id": "50b4916a",
   "metadata": {},
   "outputs": [],
   "source": []
  }
 ],
 "metadata": {
  "kernelspec": {
   "display_name": "Python 3",
   "language": "python",
   "name": "python3"
  },
  "language_info": {
   "codemirror_mode": {
    "name": "ipython",
    "version": 3
   },
   "file_extension": ".py",
   "mimetype": "text/x-python",
   "name": "python",
   "nbconvert_exporter": "python",
   "pygments_lexer": "ipython3",
   "version": "3.8.8"
  }
 },
 "nbformat": 4,
 "nbformat_minor": 5
}
