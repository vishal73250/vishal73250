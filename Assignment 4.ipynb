{
 "cells": [
  {
   "cell_type": "markdown",
   "id": "245d8c34",
   "metadata": {},
   "source": [
    "Q no. 1:- Write a function that asks for an integer and prints the square of it. Use a while loop with a try, except, else block to account for incorrect inputs."
   ]
  },
  {
   "cell_type": "code",
   "execution_count": 1,
   "id": "6ea67f3e",
   "metadata": {},
   "outputs": [],
   "source": [
    "def ask():\n",
    "    \n",
    "    while True:\n",
    "        try:\n",
    "            n = int(input('Input an integer: '))\n",
    "        except:\n",
    "            print('An error occurred! Please try again!')\n",
    "            continue\n",
    "        else:\n",
    "            break\n",
    "            \n",
    "        \n",
    "    print('Thank you, your number squared is: ',n**2)"
   ]
  },
  {
   "cell_type": "code",
   "execution_count": 2,
   "id": "19f80129",
   "metadata": {},
   "outputs": [
    {
     "name": "stdout",
     "output_type": "stream",
     "text": [
      "Input an integer: 4\n",
      "Thank you, your number squared is:  16\n"
     ]
    }
   ],
   "source": [
    "ask()"
   ]
  },
  {
   "cell_type": "markdown",
   "id": "0969ea4f",
   "metadata": {},
   "source": [
    "Q no. 2:- Write a function to compute 8/0 and use try/except to catch the exceptions."
   ]
  },
  {
   "cell_type": "code",
   "execution_count": 7,
   "id": "efe53108",
   "metadata": {},
   "outputs": [
    {
     "name": "stdout",
     "output_type": "stream",
     "text": [
      "Why on earth you are dividing a number by ZERO!!\n"
     ]
    }
   ],
   "source": [
    "def divide():\n",
    "    return 8/0\n",
    "\n",
    "try:\n",
    "    divide()\n",
    "except ZeroDivisionError as ze:\n",
    "    print(\"Why on earth you are dividing a number by ZERO!!\")\n",
    "except:\n",
    "    print(\"Any other exception\")"
   ]
  },
  {
   "cell_type": "markdown",
   "id": "bb59a9cb",
   "metadata": {},
   "source": [
    "Q no. 3:- Write a Python program that accepts a string and calculate the number of digits and letters.\n",
    "    \n",
    "    Input :- Hello321Bye360\n",
    "    \n",
    "    Output:- Digit - 6,Letter - 8"
   ]
  },
  {
   "cell_type": "code",
   "execution_count": 1,
   "id": "aa2ef149",
   "metadata": {},
   "outputs": [
    {
     "name": "stdout",
     "output_type": "stream",
     "text": [
      "Letters: 8\n",
      "Digits: 6\n"
     ]
    }
   ],
   "source": [
    "str = \"Hello321Bye360\"\n",
    "digit=letter=0\n",
    "for ch in str:\n",
    "    if ch.isdigit():\n",
    "        digit=digit+1\n",
    "    elif ch.isalpha():\n",
    "        letter=letter+1\n",
    "    else:\n",
    "        pass\n",
    "print(\"Letters:\", letter)\n",
    "print(\"Digits:\", digit)"
   ]
  },
  {
   "cell_type": "markdown",
   "id": "4691dd83",
   "metadata": {},
   "source": [
    "Q no. 4:- You are given a string.Your task is to count the frequency of letters of the string and print the letters in     descending order of frequency.\n",
    "\n",
    "for example :- If the following string is given as input to the program: aabbbccde\n",
    "\n",
    "Then, the output of the program should be: b 3 a 2 c 2 d 1 e 1"
   ]
  },
  {
   "cell_type": "code",
   "execution_count": 3,
   "id": "9d3257c9",
   "metadata": {},
   "outputs": [
    {
     "name": "stdout",
     "output_type": "stream",
     "text": [
      "{'a': 2, 'b': 3, 'c': 2, 'd': 1, 'e': 1}\n"
     ]
    }
   ],
   "source": [
    "def frequency(str1):\n",
    "    dict = {}\n",
    "    for n in str1:\n",
    "        keys = dict.keys()\n",
    "        if n in keys:\n",
    "            dict[n] += 1\n",
    "        else:\n",
    "            dict[n] = 1\n",
    "    return dict\n",
    "print(frequency('aabbbccde'))"
   ]
  },
  {
   "cell_type": "markdown",
   "id": "c5ff0f1f",
   "metadata": {},
   "source": [
    "Q no. 5:- You are required to write a program to sort the (name, age, score) tuples by ascending order where name is string,\n",
    "age and score are numbers. The tuples are input by console. The sort criteria is:\n",
    "\n",
    "1.\n",
    "Sort based on name\n",
    "\n",
    "2. Then sort based on age\n",
    "\n",
    "3. Then sort by score\n",
    "\n",
    "The priority is that name > age > score.\n",
    "\n",
    "If the following tuples are given as input to the program:\n",
    "\n",
    "Tom,19,80\n",
    "\n",
    "John,20,90\n",
    "\n",
    "Jony,17,91\n",
    "\n",
    "Jony,17,93\n",
    "\n",
    "Json,21,85\n",
    "\n",
    "Then, the output of the program should be:\n",
    "[('John', '20', '90'), ('Jony', '17', '91'), ('Jony', '17', '93'), ('Json', '21', '85'), ('Tom', '19', '80')]"
   ]
  },
  {
   "cell_type": "code",
   "execution_count": 5,
   "id": "136bf47b",
   "metadata": {},
   "outputs": [
    {
     "name": "stdout",
     "output_type": "stream",
     "text": [
      "[('John', '20', '90'), ('Jony', '17', '91'), ('Jony', '17', '93'), ('Json', '21', '85'), ('Tom', '19', '80')]\n"
     ]
    }
   ],
   "source": [
    "s = 'Tom,19,80 John,20,90 Jony,17,91 Jony,17,93 Json,21,85'\n",
    "\n",
    "lst = [tuple(x.split(',')) for x in s.split()]\n",
    "\n",
    "print(sorted(lst, key=lambda x: (x[0], x[1], x[2]))) "
   ]
  }
 ],
 "metadata": {
  "kernelspec": {
   "display_name": "Python 3",
   "language": "python",
   "name": "python3"
  },
  "language_info": {
   "codemirror_mode": {
    "name": "ipython",
    "version": 3
   },
   "file_extension": ".py",
   "mimetype": "text/x-python",
   "name": "python",
   "nbconvert_exporter": "python",
   "pygments_lexer": "ipython3",
   "version": "3.8.8"
  }
 },
 "nbformat": 4,
 "nbformat_minor": 5
}
